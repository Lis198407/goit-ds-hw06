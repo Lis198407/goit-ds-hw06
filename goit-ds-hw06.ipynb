{
 "cells": [
  {
   "cell_type": "code",
   "execution_count": 169,
   "metadata": {},
   "outputs": [],
   "source": [
    "import pandas as pd\n",
    "import numpy as np\n",
    "from sklearn.linear_model import LinearRegression\n",
    "\n",
    "#  отримаємо дані з файлу\n",
    "data = pd.read_csv('Housing.csv')\n",
    "X = data[['area', 'bathrooms', 'bedrooms']].values\n",
    "y = data['price'].values\n"
   ]
  },
  {
   "cell_type": "markdown",
   "metadata": {},
   "source": [
    "## Нормалізація- денормалізація даних"
   ]
  },
  {
   "cell_type": "code",
   "execution_count": 170,
   "metadata": {},
   "outputs": [],
   "source": [
    "def normalize_data(X):\n",
    "    X_min = X.min(axis=0)\n",
    "    X_max = X.max(axis=0)\n",
    "    X_normalized = (X - X_min) / (X_max - X_min)\n",
    "    return X_normalized\n",
    "\n",
    "def de_normalize_data(X_origin,X_normilized):\n",
    "    X_min = X_origin.min(axis=0)\n",
    "    X_max = X_origin.max(axis=0)\n",
    "    X_de_normalized = X_min + X_normilized*(X_max - X_min)\n",
    "    return X_de_normalized"
   ]
  },
  {
   "cell_type": "markdown",
   "metadata": {},
   "source": [
    "## напишіть функцію гіпотези лінійної регресії у векторному вигляді;"
   ]
  },
  {
   "cell_type": "code",
   "execution_count": 171,
   "metadata": {},
   "outputs": [],
   "source": [
    "def hypothesis(X,W):\n",
    "    return np.dot(X, W) # перемножити вектор вагів на вектор ознак"
   ]
  },
  {
   "cell_type": "markdown",
   "metadata": {},
   "source": [
    "## створіть функцію для обчислення функції втрат у векторному вигляді;\n"
   ]
  },
  {
   "cell_type": "code",
   "execution_count": 192,
   "metadata": {},
   "outputs": [],
   "source": [
    "def compute_loss(X, y, W):\n",
    "\n",
    "    m = len(y)  # кількість рядків з даними\n",
    "    predictions = hypothesis(X, W)  # розраховуємо гіпотезу\n",
    "    errors = predictions - y  # розрахунок втрат\n",
    "    loss = (1 / (2 * m)) * np.dot(errors.T, errors)  # середньо-квадратична функцыя втрат\n",
    "    return loss"
   ]
  },
  {
   "cell_type": "markdown",
   "metadata": {},
   "source": [
    "## реалізуйте один крок градієнтного спуску;"
   ]
  },
  {
   "cell_type": "code",
   "execution_count": 191,
   "metadata": {},
   "outputs": [],
   "source": [
    "def gradient_descent(X, y, w, alpha):\n",
    "    m = len(y)  # кількість рядків даних\n",
    "    predictions = hypothesis(X, w)  # рахуємо гіпотезу\n",
    "    errors = predictions - y  # рахуємо помилку, як різницю\n",
    "    gradient = (1 / m) * np.dot(X.T, errors)  # розраховуємо градієнт в векторному виразі\n",
    "    w = w - alpha * gradient  # оновлюємо коефіцієнти\n",
    "    return w"
   ]
  },
  {
   "cell_type": "markdown",
   "metadata": {},
   "source": [
    "## знайдіть найкращі параметри 𝑤⃗ w для датасету використовуючи написані вами функції, прогнозуючу ціну на будинок залежно від площі, кількості ванних кімнат та кількості спалень;"
   ]
  },
  {
   "cell_type": "code",
   "execution_count": 240,
   "metadata": {},
   "outputs": [
    {
     "name": "stdout",
     "output_type": "stream",
     "text": [
      "Optimal parameters (gradient solution): [0.04282675 0.47714285 0.36001168 0.17611438]\n",
      "y:          [13300000 12250000 12250000 12215000 11410000 10850000 10150000 10150000  9870000  9800000]\n",
      "y_gradient: [ 7036628 10392013  7591861  7066929  5650583  8046150  8862038 12155035  5908142  5997270]\n"
     ]
    }
   ],
   "source": [
    "X_normalized = normalize_data(X)\n",
    "X_normalized = np.c_[np.ones(X_normalized.shape[0]), X_normalized]\n",
    "y_normalized = normalize_data(y)\n",
    "\n",
    "w_gradient = np.random.rand(X_normalized.shape[1]) # для першої ітерації - довільні значення від 0 до 1\n",
    "\n",
    "# задаємо початкові параметри\n",
    "alpha = 0.1  # Learning rate\n",
    "num_iterations = 20000  # Number of iterations\n",
    "mse_loss = 1\n",
    "prev_mse_loss = 2\n",
    "stopping_treshold = 0.0000000000000001 # вихід з циклу по кількості ітерацій, або по покращенню функції втрат менше ніж на ...\n",
    "i=1\n",
    "\n",
    "while i<=num_iterations and (prev_mse_loss-mse_loss) > stopping_treshold:\n",
    "    prev_mse_loss = mse_loss\n",
    "    w_gradient = gradient_descent(X_normalized, y_normalized, w_gradient, alpha)\n",
    "    mse_loss = compute_loss(X_normalized, y_normalized, w_gradient)\n",
    "    # print(f'step: {i}, mse_loss {mse_loss}, prev_mse_loss {prev_mse_loss}, w: {w}') #перевірка покроково\n",
    "    i +=1\n",
    "    \n",
    "y_gradient = hypothesis(X_normalized, w_gradient)\n",
    "y_gradient = de_normalize_data(y,y_gradient)\n",
    "print(\"Optimal parameters (gradient solution):\", w_gradient)\n",
    "print(f'y:          {y[0:10]}')\n",
    "print(f'y_gradient: {y_gradient[0:10].astype(int)}')"
   ]
  },
  {
   "cell_type": "markdown",
   "metadata": {},
   "source": [
    "## знайдіть ці ж параметри за допомогою аналітичного рішення;"
   ]
  },
  {
   "cell_type": "code",
   "execution_count": 189,
   "metadata": {},
   "outputs": [
    {
     "name": "stdout",
     "output_type": "stream",
     "text": [
      "Optimal parameters (analytical solution): [0.0428274  0.47714269 0.36001286 0.17611257]\n",
      "y:             [13300000 12250000 12250000 12215000 11410000 10850000 10150000 10150000  9870000  9800000]\n",
      " analytical_y: [ 7036627 10392020  7591864  7066928  5650577  8046157  8862041 12155033  5908136  5997273]\n"
     ]
    }
   ],
   "source": [
    "def analytical_solution(X, y):\n",
    "    w = np.linalg.inv(X.T @ X) @ X.T @ y\n",
    "    return w\n",
    "\n",
    "X_normalized = normalize_data(X)\n",
    "X_normalized = np.c_[np.ones(X_normalized.shape[0]), X_normalized]\n",
    "\n",
    "y_normalized = normalize_data(y)\n",
    "\n",
    "w_analytical = analytical_solution(X_normalized, y_normalized)\n",
    "y_analytical = hypothesis(X_normalized,w_analytical)\n",
    "y_analytical = de_normalize_data(y,y_analytical)\n",
    "print(\"Optimal parameters (analytical solution):\", w_analytical)\n",
    "print(f'y:             {y[0:10]}')\n",
    "print(f' analytical_y: {y_analytical[0:10].astype(int)}')\n",
    "\n"
   ]
  },
  {
   "cell_type": "markdown",
   "metadata": {},
   "source": [
    "## для перевірки спрогнозованих значень, використайте LinearRegression з бібліотеки scikit-learn та порівняйте результати. "
   ]
  },
  {
   "cell_type": "code",
   "execution_count": 188,
   "metadata": {},
   "outputs": [
    {
     "name": "stdout",
     "output_type": "stream",
     "text": [
      "Optimal parameters (sklearn solution): 0.04282739976995403, [0.47714269 0.36001286 0.17611257]\n",
      "        y: [13300000 12250000 12250000 12215000 11410000 10850000 10150000 10150000  9870000  9800000]\n",
      "y_sklearn: [ 7036627 10392020  7591864  7066928  5650577  8046157  8862041 12155033  5908136  5997273]\n"
     ]
    }
   ],
   "source": [
    "np.set_printoptions(suppress=True,\n",
    "   formatter={'float_kind':'{:0.2f}'.format})\n",
    "\n",
    "\n",
    "np.set_printoptions(edgeitems=3)\n",
    "np.core.arrayprint._line_width = 80\n",
    "\n",
    "model_sklearn = LinearRegression()\n",
    "\n",
    "X_normalized = normalize_data(X)\n",
    "y_normalized = normalize_data(y)\n",
    "\n",
    "model_sklearn.fit(X_normalized, y_normalized)\n",
    "\n",
    "coefficients_sklearn = model_sklearn.coef_\n",
    "intercept_sklearn = model_sklearn.intercept_\n",
    "\n",
    "y_sklearn = model_sklearn.predict(X_normalized)\n",
    "y_sklearn = de_normalize_data(y,y_sklearn)\n",
    "\n",
    "\n",
    "print(f\"Optimal parameters (sklearn solution): {intercept_sklearn}, {coefficients_sklearn}\")\n",
    "print(f'        y: {y[0:10]}')\n",
    "print(f'y_sklearn: {y_sklearn[0:10].astype(int)}')\n"
   ]
  },
  {
   "cell_type": "markdown",
   "metadata": {},
   "source": []
  },
  {
   "cell_type": "code",
   "execution_count": 239,
   "metadata": {},
   "outputs": [
    {
     "name": "stdout",
     "output_type": "stream",
     "text": [
      "Optimal parameters (gradient solution):   [0.04282807 0.4771423  0.36001408 0.17611083]\n",
      "Optimal parameters (analytical solution): [0.0428274  0.47714269 0.36001286 0.17611257]\n",
      "Optimal parameters (sklearn solution):    0.04282739976995403, [0.47714269 0.36001286 0.17611257]\n"
     ]
    }
   ],
   "source": [
    "# all decision in 1 output:\n",
    "print(\"Optimal parameters (gradient solution):  \", w_gradient)\n",
    "print(\"Optimal parameters (analytical solution):\", w_analytical)\n",
    "print(f\"Optimal parameters (sklearn solution):    {intercept_sklearn}, {coefficients_sklearn}\")"
   ]
  }
 ],
 "metadata": {
  "kernelspec": {
   "display_name": "Python 3",
   "language": "python",
   "name": "python3"
  },
  "language_info": {
   "codemirror_mode": {
    "name": "ipython",
    "version": 3
   },
   "file_extension": ".py",
   "mimetype": "text/x-python",
   "name": "python",
   "nbconvert_exporter": "python",
   "pygments_lexer": "ipython3",
   "version": "3.12.2"
  }
 },
 "nbformat": 4,
 "nbformat_minor": 2
}
